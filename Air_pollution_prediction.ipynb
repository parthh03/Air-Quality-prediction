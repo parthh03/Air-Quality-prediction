{
  "nbformat": 4,
  "nbformat_minor": 0,
  "metadata": {
    "colab": {
      "provenance": [],
      "authorship_tag": "ABX9TyNDhtCXvKadUdejjs/YtRI4",
      "include_colab_link": true
    },
    "kernelspec": {
      "name": "python3",
      "display_name": "Python 3"
    },
    "language_info": {
      "name": "python"
    }
  },
  "cells": [
    {
      "cell_type": "markdown",
      "metadata": {
        "id": "view-in-github",
        "colab_type": "text"
      },
      "source": [
        "<a href=\"https://colab.research.google.com/github/parthh03/Air-Quality-prediction/blob/main/Air_pollution_prediction.ipynb\" target=\"_parent\"><img src=\"https://colab.research.google.com/assets/colab-badge.svg\" alt=\"Open In Colab\"/></a>"
      ]
    },
    {
      "cell_type": "code",
      "source": [
        "import pandas as pd\n",
        "\n",
        "# Provide the file path without extra double quotes\n",
        "file_path = \"Air_pollution.csv\"\n",
        "\n",
        "# Load the CSV file into a DataFrame\n",
        "data_df = pd.read_csv(file_path, index_col=0)\n",
        "\n",
        "# Display the first few rows of the DataFrame\n",
        "data_df.head()\n"
      ],
      "metadata": {
        "colab": {
          "base_uri": "https://localhost:8080/",
          "height": 237
        },
        "id": "lgn7L-jGRJqP",
        "outputId": "62071698-09fc-4d0b-9261-c0769a34bb3b"
      },
      "execution_count": 10,
      "outputs": [
        {
          "output_type": "execute_result",
          "data": {
            "text/plain": [
              "    year  month  day  hour  pm2.5  DEWP  TEMP    PRES cbwd    Iws  Is  Ir\n",
              "No                                                                       \n",
              "1   2010      1    1     0    NaN   -21 -11.0  1021.0   NW   1.79   0   0\n",
              "2   2010      1    1     1    NaN   -21 -12.0  1020.0   NW   4.92   0   0\n",
              "3   2010      1    1     2    NaN   -21 -11.0  1019.0   NW   6.71   0   0\n",
              "4   2010      1    1     3    NaN   -21 -14.0  1019.0   NW   9.84   0   0\n",
              "5   2010      1    1     4    NaN   -20 -12.0  1018.0   NW  12.97   0   0"
            ],
            "text/html": [
              "\n",
              "  <div id=\"df-f8fcc5f0-b3ad-4232-8a9c-b399c6c7e047\" class=\"colab-df-container\">\n",
              "    <div>\n",
              "<style scoped>\n",
              "    .dataframe tbody tr th:only-of-type {\n",
              "        vertical-align: middle;\n",
              "    }\n",
              "\n",
              "    .dataframe tbody tr th {\n",
              "        vertical-align: top;\n",
              "    }\n",
              "\n",
              "    .dataframe thead th {\n",
              "        text-align: right;\n",
              "    }\n",
              "</style>\n",
              "<table border=\"1\" class=\"dataframe\">\n",
              "  <thead>\n",
              "    <tr style=\"text-align: right;\">\n",
              "      <th></th>\n",
              "      <th>year</th>\n",
              "      <th>month</th>\n",
              "      <th>day</th>\n",
              "      <th>hour</th>\n",
              "      <th>pm2.5</th>\n",
              "      <th>DEWP</th>\n",
              "      <th>TEMP</th>\n",
              "      <th>PRES</th>\n",
              "      <th>cbwd</th>\n",
              "      <th>Iws</th>\n",
              "      <th>Is</th>\n",
              "      <th>Ir</th>\n",
              "    </tr>\n",
              "    <tr>\n",
              "      <th>No</th>\n",
              "      <th></th>\n",
              "      <th></th>\n",
              "      <th></th>\n",
              "      <th></th>\n",
              "      <th></th>\n",
              "      <th></th>\n",
              "      <th></th>\n",
              "      <th></th>\n",
              "      <th></th>\n",
              "      <th></th>\n",
              "      <th></th>\n",
              "      <th></th>\n",
              "    </tr>\n",
              "  </thead>\n",
              "  <tbody>\n",
              "    <tr>\n",
              "      <th>1</th>\n",
              "      <td>2010</td>\n",
              "      <td>1</td>\n",
              "      <td>1</td>\n",
              "      <td>0</td>\n",
              "      <td>NaN</td>\n",
              "      <td>-21</td>\n",
              "      <td>-11.0</td>\n",
              "      <td>1021.0</td>\n",
              "      <td>NW</td>\n",
              "      <td>1.79</td>\n",
              "      <td>0</td>\n",
              "      <td>0</td>\n",
              "    </tr>\n",
              "    <tr>\n",
              "      <th>2</th>\n",
              "      <td>2010</td>\n",
              "      <td>1</td>\n",
              "      <td>1</td>\n",
              "      <td>1</td>\n",
              "      <td>NaN</td>\n",
              "      <td>-21</td>\n",
              "      <td>-12.0</td>\n",
              "      <td>1020.0</td>\n",
              "      <td>NW</td>\n",
              "      <td>4.92</td>\n",
              "      <td>0</td>\n",
              "      <td>0</td>\n",
              "    </tr>\n",
              "    <tr>\n",
              "      <th>3</th>\n",
              "      <td>2010</td>\n",
              "      <td>1</td>\n",
              "      <td>1</td>\n",
              "      <td>2</td>\n",
              "      <td>NaN</td>\n",
              "      <td>-21</td>\n",
              "      <td>-11.0</td>\n",
              "      <td>1019.0</td>\n",
              "      <td>NW</td>\n",
              "      <td>6.71</td>\n",
              "      <td>0</td>\n",
              "      <td>0</td>\n",
              "    </tr>\n",
              "    <tr>\n",
              "      <th>4</th>\n",
              "      <td>2010</td>\n",
              "      <td>1</td>\n",
              "      <td>1</td>\n",
              "      <td>3</td>\n",
              "      <td>NaN</td>\n",
              "      <td>-21</td>\n",
              "      <td>-14.0</td>\n",
              "      <td>1019.0</td>\n",
              "      <td>NW</td>\n",
              "      <td>9.84</td>\n",
              "      <td>0</td>\n",
              "      <td>0</td>\n",
              "    </tr>\n",
              "    <tr>\n",
              "      <th>5</th>\n",
              "      <td>2010</td>\n",
              "      <td>1</td>\n",
              "      <td>1</td>\n",
              "      <td>4</td>\n",
              "      <td>NaN</td>\n",
              "      <td>-20</td>\n",
              "      <td>-12.0</td>\n",
              "      <td>1018.0</td>\n",
              "      <td>NW</td>\n",
              "      <td>12.97</td>\n",
              "      <td>0</td>\n",
              "      <td>0</td>\n",
              "    </tr>\n",
              "  </tbody>\n",
              "</table>\n",
              "</div>\n",
              "    <div class=\"colab-df-buttons\">\n",
              "\n",
              "  <div class=\"colab-df-container\">\n",
              "    <button class=\"colab-df-convert\" onclick=\"convertToInteractive('df-f8fcc5f0-b3ad-4232-8a9c-b399c6c7e047')\"\n",
              "            title=\"Convert this dataframe to an interactive table.\"\n",
              "            style=\"display:none;\">\n",
              "\n",
              "  <svg xmlns=\"http://www.w3.org/2000/svg\" height=\"24px\" viewBox=\"0 -960 960 960\">\n",
              "    <path d=\"M120-120v-720h720v720H120Zm60-500h600v-160H180v160Zm220 220h160v-160H400v160Zm0 220h160v-160H400v160ZM180-400h160v-160H180v160Zm440 0h160v-160H620v160ZM180-180h160v-160H180v160Zm440 0h160v-160H620v160Z\"/>\n",
              "  </svg>\n",
              "    </button>\n",
              "\n",
              "  <style>\n",
              "    .colab-df-container {\n",
              "      display:flex;\n",
              "      gap: 12px;\n",
              "    }\n",
              "\n",
              "    .colab-df-convert {\n",
              "      background-color: #E8F0FE;\n",
              "      border: none;\n",
              "      border-radius: 50%;\n",
              "      cursor: pointer;\n",
              "      display: none;\n",
              "      fill: #1967D2;\n",
              "      height: 32px;\n",
              "      padding: 0 0 0 0;\n",
              "      width: 32px;\n",
              "    }\n",
              "\n",
              "    .colab-df-convert:hover {\n",
              "      background-color: #E2EBFA;\n",
              "      box-shadow: 0px 1px 2px rgba(60, 64, 67, 0.3), 0px 1px 3px 1px rgba(60, 64, 67, 0.15);\n",
              "      fill: #174EA6;\n",
              "    }\n",
              "\n",
              "    .colab-df-buttons div {\n",
              "      margin-bottom: 4px;\n",
              "    }\n",
              "\n",
              "    [theme=dark] .colab-df-convert {\n",
              "      background-color: #3B4455;\n",
              "      fill: #D2E3FC;\n",
              "    }\n",
              "\n",
              "    [theme=dark] .colab-df-convert:hover {\n",
              "      background-color: #434B5C;\n",
              "      box-shadow: 0px 1px 3px 1px rgba(0, 0, 0, 0.15);\n",
              "      filter: drop-shadow(0px 1px 2px rgba(0, 0, 0, 0.3));\n",
              "      fill: #FFFFFF;\n",
              "    }\n",
              "  </style>\n",
              "\n",
              "    <script>\n",
              "      const buttonEl =\n",
              "        document.querySelector('#df-f8fcc5f0-b3ad-4232-8a9c-b399c6c7e047 button.colab-df-convert');\n",
              "      buttonEl.style.display =\n",
              "        google.colab.kernel.accessAllowed ? 'block' : 'none';\n",
              "\n",
              "      async function convertToInteractive(key) {\n",
              "        const element = document.querySelector('#df-f8fcc5f0-b3ad-4232-8a9c-b399c6c7e047');\n",
              "        const dataTable =\n",
              "          await google.colab.kernel.invokeFunction('convertToInteractive',\n",
              "                                                    [key], {});\n",
              "        if (!dataTable) return;\n",
              "\n",
              "        const docLinkHtml = 'Like what you see? Visit the ' +\n",
              "          '<a target=\"_blank\" href=https://colab.research.google.com/notebooks/data_table.ipynb>data table notebook</a>'\n",
              "          + ' to learn more about interactive tables.';\n",
              "        element.innerHTML = '';\n",
              "        dataTable['output_type'] = 'display_data';\n",
              "        await google.colab.output.renderOutput(dataTable, element);\n",
              "        const docLink = document.createElement('div');\n",
              "        docLink.innerHTML = docLinkHtml;\n",
              "        element.appendChild(docLink);\n",
              "      }\n",
              "    </script>\n",
              "  </div>\n",
              "\n",
              "\n",
              "<div id=\"df-5e5d3724-77fb-4dd4-8642-f4ebc02392a9\">\n",
              "  <button class=\"colab-df-quickchart\" onclick=\"quickchart('df-5e5d3724-77fb-4dd4-8642-f4ebc02392a9')\"\n",
              "            title=\"Suggest charts.\"\n",
              "            style=\"display:none;\">\n",
              "\n",
              "<svg xmlns=\"http://www.w3.org/2000/svg\" height=\"24px\"viewBox=\"0 0 24 24\"\n",
              "     width=\"24px\">\n",
              "    <g>\n",
              "        <path d=\"M19 3H5c-1.1 0-2 .9-2 2v14c0 1.1.9 2 2 2h14c1.1 0 2-.9 2-2V5c0-1.1-.9-2-2-2zM9 17H7v-7h2v7zm4 0h-2V7h2v10zm4 0h-2v-4h2v4z\"/>\n",
              "    </g>\n",
              "</svg>\n",
              "  </button>\n",
              "\n",
              "<style>\n",
              "  .colab-df-quickchart {\n",
              "      --bg-color: #E8F0FE;\n",
              "      --fill-color: #1967D2;\n",
              "      --hover-bg-color: #E2EBFA;\n",
              "      --hover-fill-color: #174EA6;\n",
              "      --disabled-fill-color: #AAA;\n",
              "      --disabled-bg-color: #DDD;\n",
              "  }\n",
              "\n",
              "  [theme=dark] .colab-df-quickchart {\n",
              "      --bg-color: #3B4455;\n",
              "      --fill-color: #D2E3FC;\n",
              "      --hover-bg-color: #434B5C;\n",
              "      --hover-fill-color: #FFFFFF;\n",
              "      --disabled-bg-color: #3B4455;\n",
              "      --disabled-fill-color: #666;\n",
              "  }\n",
              "\n",
              "  .colab-df-quickchart {\n",
              "    background-color: var(--bg-color);\n",
              "    border: none;\n",
              "    border-radius: 50%;\n",
              "    cursor: pointer;\n",
              "    display: none;\n",
              "    fill: var(--fill-color);\n",
              "    height: 32px;\n",
              "    padding: 0;\n",
              "    width: 32px;\n",
              "  }\n",
              "\n",
              "  .colab-df-quickchart:hover {\n",
              "    background-color: var(--hover-bg-color);\n",
              "    box-shadow: 0 1px 2px rgba(60, 64, 67, 0.3), 0 1px 3px 1px rgba(60, 64, 67, 0.15);\n",
              "    fill: var(--button-hover-fill-color);\n",
              "  }\n",
              "\n",
              "  .colab-df-quickchart-complete:disabled,\n",
              "  .colab-df-quickchart-complete:disabled:hover {\n",
              "    background-color: var(--disabled-bg-color);\n",
              "    fill: var(--disabled-fill-color);\n",
              "    box-shadow: none;\n",
              "  }\n",
              "\n",
              "  .colab-df-spinner {\n",
              "    border: 2px solid var(--fill-color);\n",
              "    border-color: transparent;\n",
              "    border-bottom-color: var(--fill-color);\n",
              "    animation:\n",
              "      spin 1s steps(1) infinite;\n",
              "  }\n",
              "\n",
              "  @keyframes spin {\n",
              "    0% {\n",
              "      border-color: transparent;\n",
              "      border-bottom-color: var(--fill-color);\n",
              "      border-left-color: var(--fill-color);\n",
              "    }\n",
              "    20% {\n",
              "      border-color: transparent;\n",
              "      border-left-color: var(--fill-color);\n",
              "      border-top-color: var(--fill-color);\n",
              "    }\n",
              "    30% {\n",
              "      border-color: transparent;\n",
              "      border-left-color: var(--fill-color);\n",
              "      border-top-color: var(--fill-color);\n",
              "      border-right-color: var(--fill-color);\n",
              "    }\n",
              "    40% {\n",
              "      border-color: transparent;\n",
              "      border-right-color: var(--fill-color);\n",
              "      border-top-color: var(--fill-color);\n",
              "    }\n",
              "    60% {\n",
              "      border-color: transparent;\n",
              "      border-right-color: var(--fill-color);\n",
              "    }\n",
              "    80% {\n",
              "      border-color: transparent;\n",
              "      border-right-color: var(--fill-color);\n",
              "      border-bottom-color: var(--fill-color);\n",
              "    }\n",
              "    90% {\n",
              "      border-color: transparent;\n",
              "      border-bottom-color: var(--fill-color);\n",
              "    }\n",
              "  }\n",
              "</style>\n",
              "\n",
              "  <script>\n",
              "    async function quickchart(key) {\n",
              "      const quickchartButtonEl =\n",
              "        document.querySelector('#' + key + ' button');\n",
              "      quickchartButtonEl.disabled = true;  // To prevent multiple clicks.\n",
              "      quickchartButtonEl.classList.add('colab-df-spinner');\n",
              "      try {\n",
              "        const charts = await google.colab.kernel.invokeFunction(\n",
              "            'suggestCharts', [key], {});\n",
              "      } catch (error) {\n",
              "        console.error('Error during call to suggestCharts:', error);\n",
              "      }\n",
              "      quickchartButtonEl.classList.remove('colab-df-spinner');\n",
              "      quickchartButtonEl.classList.add('colab-df-quickchart-complete');\n",
              "    }\n",
              "    (() => {\n",
              "      let quickchartButtonEl =\n",
              "        document.querySelector('#df-5e5d3724-77fb-4dd4-8642-f4ebc02392a9 button');\n",
              "      quickchartButtonEl.style.display =\n",
              "        google.colab.kernel.accessAllowed ? 'block' : 'none';\n",
              "    })();\n",
              "  </script>\n",
              "</div>\n",
              "    </div>\n",
              "  </div>\n"
            ]
          },
          "metadata": {},
          "execution_count": 10
        }
      ]
    },
    {
      "cell_type": "code",
      "source": [
        "data_df['datetime'] = pd.to_datetime(data_df[['year', 'month','day', 'hour']])\n",
        "data_df = data_df.drop(['year', 'month','day', 'hour'], axis = 1)\n",
        "\n",
        "data_df = data_df[['datetime', 'DEWP', 'TEMP', 'PRES', 'cbwd', 'Iws', 'Is', 'Ir', 'pm2.5']].iloc[24:].reset_index().drop('No', axis = 1)\n",
        "data_df[['pm2.5']] = data_df[['pm2.5']].interpolate(method='linear')\n"
      ],
      "metadata": {
        "id": "mRQ9uwrERNWm"
      },
      "execution_count": 11,
      "outputs": []
    },
    {
      "cell_type": "code",
      "source": [
        "data_df.isnull().sum()"
      ],
      "metadata": {
        "colab": {
          "base_uri": "https://localhost:8080/"
        },
        "id": "dsuLF0jfRNYi",
        "outputId": "3b3b100b-6822-4da6-bd0a-005d24c07d23"
      },
      "execution_count": 12,
      "outputs": [
        {
          "output_type": "execute_result",
          "data": {
            "text/plain": [
              "datetime    0\n",
              "DEWP        0\n",
              "TEMP        0\n",
              "PRES        0\n",
              "cbwd        0\n",
              "Iws         0\n",
              "Is          0\n",
              "Ir          0\n",
              "pm2.5       0\n",
              "dtype: int64"
            ]
          },
          "metadata": {},
          "execution_count": 12
        }
      ]
    },
    {
      "cell_type": "code",
      "source": [
        "len(data_df)"
      ],
      "metadata": {
        "colab": {
          "base_uri": "https://localhost:8080/"
        },
        "id": "UwLJENU5RNcM",
        "outputId": "2b5765d7-388e-4de2-d939-76596b25459d"
      },
      "execution_count": 13,
      "outputs": [
        {
          "output_type": "execute_result",
          "data": {
            "text/plain": [
              "43800"
            ]
          },
          "metadata": {},
          "execution_count": 13
        }
      ]
    },
    {
      "cell_type": "code",
      "source": [
        "ax = data_df['pm2.5'].plot.hist(bins = 200, figsize = (12,8))"
      ],
      "metadata": {
        "colab": {
          "base_uri": "https://localhost:8080/",
          "height": 681
        },
        "id": "CKlwMCvLYNz5",
        "outputId": "b5425d88-3ea9-44c3-aa8c-0b51525d3ebd"
      },
      "execution_count": 14,
      "outputs": [
        {
          "output_type": "display_data",
          "data": {
            "text/plain": [
              "<Figure size 1200x800 with 1 Axes>"
            ],
            "image/png": "[encoded data removed]"
          },
          "metadata": {}
        }
      ]
    },
    {
      "cell_type": "code",
      "source": [
        "ax = data_df.plot(x = 'datetime', y = 'pm2.5', figsize = (12,8))"
      ],
      "metadata": {
        "colab": {
          "base_uri": "https://localhost:8080/",
          "height": 704
        },
        "id": "hzGVmUQYYN2k",
        "outputId": "ed7cae11-1941-44bd-a41f-f4b240e4ef67"
      },
      "execution_count": 15,
      "outputs": [
        {
          "output_type": "display_data",
          "data": {
            "text/plain": [
              "<Figure size 1200x800 with 1 Axes>"
            ],
            "image/png": "[encoded data removed]"
          },
          "metadata": {}
        }
      ]
    },
    {
      "cell_type": "code",
      "source": [
        "data_df[['pm2.5']].mean()"
      ],
      "metadata": {
        "colab": {
          "base_uri": "https://localhost:8080/"
        },
        "id": "5cJ8hfXrYN4m",
        "outputId": "931cc00e-0e4f-41e6-a2af-a8af7317cc29"
      },
      "execution_count": 16,
      "outputs": [
        {
          "output_type": "execute_result",
          "data": {
            "text/plain": [
              "pm2.5    98.244966\n",
              "dtype: float64"
            ]
          },
          "metadata": {},
          "execution_count": 16
        }
      ]
    },
    {
      "cell_type": "code",
      "source": [
        "from sklearn.model_selection import train_test_split\n",
        "\n",
        "data_df = data_df.set_index('datetime')\n",
        "X_train, X_test, y_train, y_test = train_test_split(data_df[['DEWP', 'TEMP', 'PRES', 'Iws', 'Is', 'Ir']], data_df[['pm2.5']], test_size=0.2)"
      ],
      "metadata": {
        "id": "H6zo0bPpYN7-"
      },
      "execution_count": 17,
      "outputs": []
    },
    {
      "cell_type": "code",
      "source": [
        "import statsmodels.api as sm\n",
        "import numpy as np\n",
        "\n",
        "model = sm.OLS(np.asarray(y_train), np.asarray(X_train))\n",
        "results = model.fit()\n",
        "print(results.summary())\n"
      ],
      "metadata": {
        "colab": {
          "base_uri": "https://localhost:8080/"
        },
        "id": "VEccC8_QYZjX",
        "outputId": "272fcf6c-272c-408f-8163-ea5ebfc846f7"
      },
      "execution_count": 18,
      "outputs": [
        {
          "output_type": "stream",
          "name": "stdout",
          "text": [
            "                                 OLS Regression Results                                \n",
            "=======================================================================================\n",
            "Dep. Variable:                      y   R-squared (uncentered):                   0.639\n",
            "Model:                            OLS   Adj. R-squared (uncentered):              0.639\n",
            "Method:                 Least Squares   F-statistic:                          1.035e+04\n",
            "Date:                Thu, 02 Nov 2023   Prob (F-statistic):                        0.00\n",
            "Time:                        23:32:44   Log-Likelihood:                     -2.0354e+05\n",
            "No. Observations:               35040   AIC:                                  4.071e+05\n",
            "Df Residuals:                   35034   BIC:                                  4.071e+05\n",
            "Df Model:                           6                                                  \n",
            "Covariance Type:            nonrobust                                                  \n",
            "==============================================================================\n",
            "                 coef    std err          t      P>|t|      [0.025      0.975]\n",
            "------------------------------------------------------------------------------\n",
            "x1             4.5229      0.056     80.363      0.000       4.413       4.633\n",
            "x2            -5.1069      0.064    -80.129      0.000      -5.232      -4.982\n",
            "x3             0.1589      0.001    192.083      0.000       0.157       0.161\n",
            "x4            -0.2587      0.009    -28.528      0.000      -0.276      -0.241\n",
            "x5            -2.5274      0.572     -4.418      0.000      -3.649      -1.406\n",
            "x6            -6.6990      0.303    -22.084      0.000      -7.294      -6.104\n",
            "==============================================================================\n",
            "Omnibus:                    12915.712   Durbin-Watson:                   1.989\n",
            "Prob(Omnibus):                  0.000   Jarque-Bera (JB):            65567.727\n",
            "Skew:                           1.719   Prob(JB):                         0.00\n",
            "Kurtosis:                       8.752   Cond. No.                     1.35e+03\n",
            "==============================================================================\n",
            "\n",
            "Notes:\n",
            "[1] R² is computed without centering (uncentered) since the model does not contain a constant.\n",
            "[2] Standard Errors assume that the covariance matrix of the errors is correctly specified.\n",
            "[3] The condition number is large, 1.35e+03. This might indicate that there are\n",
            "strong multicollinearity or other numerical problems.\n"
          ]
        }
      ]
    },
    {
      "cell_type": "code",
      "source": [
        "from sklearn.metrics import mean_squared_error\n",
        "\n",
        "y_pred = results.predict(np.asarray(X_test))\n",
        "mse = mean_squared_error(np.asarray(y_test), y_pred)\n",
        "rmse = mse**0.5\n",
        "print(rmse)\n"
      ],
      "metadata": {
        "colab": {
          "base_uri": "https://localhost:8080/"
        },
        "id": "5YdjllsIYZpR",
        "outputId": "be1ab3e1-984a-43af-c043-7ec8c7779b06"
      },
      "execution_count": 19,
      "outputs": [
        {
          "output_type": "stream",
          "name": "stdout",
          "text": [
            "79.09863288788789\n"
          ]
        }
      ]
    },
    {
      "cell_type": "code",
      "source": [
        "data_df = data_df.reset_index()\n",
        "six_df = pd.DataFrame()\n",
        "twelve_df = pd.DataFrame()\n",
        "tf_df = pd.DataFrame()\n",
        "for i in range(len(data_df)):\n",
        "    six_df = pd.concat([six_df,pd.DataFrame({'6hr_avg':[sum(data_df['pm2.5'].iloc[i:i+6])/6]}, index = [i+6])])\n",
        "    twelve_df = pd.concat([twelve_df,pd.DataFrame({'12hr_avg':[sum(data_df['pm2.5'].iloc[i:i+12])/12]}, index = [i+12])])\n",
        "    tf_df = pd.concat([tf_df,pd.DataFrame({'24hr_avg':[sum(data_df['pm2.5'].iloc[i:i+24])/24]}, index = [i+24])])\n",
        "\n",
        "data_df = pd.merge(data_df, six_df, left_index=True, right_index=True)\n",
        "data_df = pd.merge(data_df, twelve_df, left_index=True, right_index=True)\n",
        "data_df = pd.merge(data_df, tf_df, left_index=True, right_index=True)\n",
        "\n",
        "data_df = pd.merge(data_df,pd.get_dummies(data_df['cbwd']), left_index=True, right_index=True)\n",
        "\n"
      ],
      "metadata": {
        "id": "b6PXBbHFYZsw"
      },
      "execution_count": 20,
      "outputs": []
    },
    {
      "cell_type": "code",
      "source": [
        "X_train, X_test, y_train, y_test = train_test_split(data_df[['DEWP', 'TEMP', 'PRES', 'Iws', 'Is', 'Ir','6hr_avg', '12hr_avg', '24hr_avg','NE','NW','SE']], data_df[['pm2.5']], test_size=0.2)\n",
        "\n",
        "model = sm.OLS(np.asarray(y_train), np.asarray(X_train))\n",
        "results = model.fit()\n",
        "print(results.summary())\n"
      ],
      "metadata": {
        "colab": {
          "base_uri": "https://localhost:8080/"
        },
        "id": "G0jgUqlcYjtH",
        "outputId": "4123b84c-29c9-4834-be8b-e4dcbe17ff16"
      },
      "execution_count": 21,
      "outputs": [
        {
          "output_type": "stream",
          "name": "stdout",
          "text": [
            "                                 OLS Regression Results                                \n",
            "=======================================================================================\n",
            "Dep. Variable:                      y   R-squared (uncentered):                   0.918\n",
            "Model:                            OLS   Adj. R-squared (uncentered):              0.918\n",
            "Method:                 Least Squares   F-statistic:                          3.262e+04\n",
            "Date:                Thu, 02 Nov 2023   Prob (F-statistic):                        0.00\n",
            "Time:                        23:38:40   Log-Likelihood:                     -1.7748e+05\n",
            "No. Observations:               35020   AIC:                                  3.550e+05\n",
            "Df Residuals:                   35008   BIC:                                  3.551e+05\n",
            "Df Model:                          12                                                  \n",
            "Covariance Type:            nonrobust                                                  \n",
            "==============================================================================\n",
            "                 coef    std err          t      P>|t|      [0.025      0.975]\n",
            "------------------------------------------------------------------------------\n",
            "x1             0.6985      0.029     23.912      0.000       0.641       0.756\n",
            "x2            -1.0072      0.033    -30.146      0.000      -1.073      -0.942\n",
            "x3             0.0303      0.001     45.211      0.000       0.029       0.032\n",
            "x4             0.0013      0.005      0.277      0.782      -0.008       0.010\n",
            "x5            -1.0991      0.273     -4.033      0.000      -1.633      -0.565\n",
            "x6            -1.7233      0.147    -11.737      0.000      -2.011      -1.436\n",
            "x7             1.3123      0.009    148.054      0.000       1.295       1.330\n",
            "x8            -0.6260      0.013    -48.927      0.000      -0.651      -0.601\n",
            "x9             0.1944      0.008     25.725      0.000       0.180       0.209\n",
            "x10          -10.6413      0.759    -14.027      0.000     -12.128      -9.154\n",
            "x11          -19.4531      0.624    -31.184      0.000     -20.676     -18.230\n",
            "x12            0.3331      0.579      0.575      0.565      -0.802       1.469\n",
            "==============================================================================\n",
            "Omnibus:                    11495.338   Durbin-Watson:                   2.018\n",
            "Prob(Omnibus):                  0.000   Jarque-Bera (JB):          1239980.812\n",
            "Skew:                           0.576   Prob(JB):                         0.00\n",
            "Kurtosis:                      32.128   Cond. No.                     4.67e+03\n",
            "==============================================================================\n",
            "\n",
            "Notes:\n",
            "[1] R² is computed without centering (uncentered) since the model does not contain a constant.\n",
            "[2] Standard Errors assume that the covariance matrix of the errors is correctly specified.\n",
            "[3] The condition number is large, 4.67e+03. This might indicate that there are\n",
            "strong multicollinearity or other numerical problems.\n"
          ]
        }
      ]
    },
    {
      "cell_type": "code",
      "source": [
        "y_pred = results.predict(np.asarray(X_test))\n",
        "\n",
        "mse = mean_squared_error(np.asarray(y_test), y_pred)\n",
        "rmse = mse**0.5\n",
        "print(rmse)\n"
      ],
      "metadata": {
        "colab": {
          "base_uri": "https://localhost:8080/"
        },
        "id": "MAH-hCLCYjws",
        "outputId": "2dcc03fc-b087-4bf1-a9bc-556ece829e7f"
      },
      "execution_count": 22,
      "outputs": [
        {
          "output_type": "stream",
          "name": "stdout",
          "text": [
            "36.54711971695055\n"
          ]
        }
      ]
    },
    {
      "cell_type": "code",
      "source": [
        "comp_df = pd.merge(y_test,pd.DataFrame({'Pred':y_pred}, index = [y_test.index]), left_index=True, right_index=True)\n",
        "ax = comp_df.plot.hist(bins= 200, alpha = 0.5, figsize=(12,8))"
      ],
      "metadata": {
        "colab": {
          "base_uri": "https://localhost:8080/",
          "height": 681
        },
        "id": "TSwfD2hGZ4jr",
        "outputId": "20ec027e-476b-4fb2-ab92-edba51d36675"
      },
      "execution_count": 23,
      "outputs": [
        {
          "output_type": "display_data",
          "data": {
            "text/plain": [
              "<Figure size 1200x800 with 1 Axes>"
            ],
            "image/png": "[encoded data removed]"
          },
          "metadata": {}
        }
      ]
    },
    {
      "cell_type": "code",
      "source": [
        "from sklearn import tree\n",
        "data_df = data_df.reset_index()\n",
        "X_train, X_test, y_train, y_test = train_test_split(data_df[['DEWP', 'TEMP', 'PRES', 'Iws', 'Is', 'Ir','6hr_avg', '12hr_avg', '24hr_avg','NE','NW','SE']], data_df[['pm2.5']], test_size=0.2)"
      ],
      "metadata": {
        "id": "nNqRbzBcZ4nB"
      },
      "execution_count": 26,
      "outputs": []
    },
    {
      "cell_type": "code",
      "source": [
        "clf = tree.DecisionTreeRegressor()\n",
        "clf = clf.fit(np.asarray(X_train), np.asarray(y_train))"
      ],
      "metadata": {
        "id": "ETp5Mq_8Z_TM"
      },
      "execution_count": 27,
      "outputs": []
    },
    {
      "cell_type": "code",
      "source": [
        "y_pred = clf.predict(np.asarray(X_test))"
      ],
      "metadata": {
        "id": "68W_SxjxaEjm"
      },
      "execution_count": 28,
      "outputs": []
    },
    {
      "cell_type": "code",
      "source": [
        "mse = mean_squared_error(np.asarray(y_test), y_pred)\n",
        "rmse = mse**0.5\n",
        "print(rmse)"
      ],
      "metadata": {
        "colab": {
          "base_uri": "https://localhost:8080/"
        },
        "id": "gwU2FhV_aEm6",
        "outputId": "2dd375c8-4d15-4540-9795-6581f45aebb2"
      },
      "execution_count": 29,
      "outputs": [
        {
          "output_type": "stream",
          "name": "stdout",
          "text": [
            "48.58591855381958\n"
          ]
        }
      ]
    },
    {
      "cell_type": "code",
      "source": [
        "import xgboost as xgb\n",
        "from sklearn.metrics import accuracy_score\n",
        "\n",
        "# Convert feature names to a list of strings\n",
        "feature_names = X_train.columns.tolist()\n",
        "\n",
        "# Create DMatrix for the training and test data\n",
        "dtest = xgb.DMatrix(X_test, label=y_test, feature_names=feature_names)\n",
        "dtrain = xgb.DMatrix(X_train, label=y_train, feature_names=feature_names)\n",
        "\n",
        "param = {'verbosity': 1,\n",
        "         'objective': 'reg:squarederror',     # 'reg:squarederror' for regression\n",
        "         'booster': 'gblinear',\n",
        "         'eval_metric': 'rmse',\n",
        "         'feature_selector': 'cyclic',\n",
        "         'learning_rate': 1}\n",
        "\n",
        "evallist = [(dtrain, 'train')]"
      ],
      "metadata": {
        "id": "yeONih4HaJw4"
      },
      "execution_count": 31,
      "outputs": []
    },
    {
      "cell_type": "code",
      "source": [
        "num_round = 20\n",
        "bst = xgb.train(param, dtrain, num_round, evallist)"
      ],
      "metadata": {
        "colab": {
          "base_uri": "https://localhost:8080/"
        },
        "id": "0kIDEsL8aJ0g",
        "outputId": "be8148a0-d97f-47ce-95cd-4ad2f8093f2c"
      },
      "execution_count": 32,
      "outputs": [
        {
          "output_type": "stream",
          "name": "stdout",
          "text": [
            "[0]\ttrain-rmse:53.20084\n",
            "[1]\ttrain-rmse:46.21273\n",
            "[2]\ttrain-rmse:43.73740\n",
            "[3]\ttrain-rmse:42.69732\n",
            "[4]\ttrain-rmse:42.07465\n",
            "[5]\ttrain-rmse:41.44724\n",
            "[6]\ttrain-rmse:40.89553\n",
            "[7]\ttrain-rmse:40.41871\n",
            "[8]\ttrain-rmse:40.07270\n",
            "[9]\ttrain-rmse:39.82625\n",
            "[10]\ttrain-rmse:39.62243\n",
            "[11]\ttrain-rmse:39.44678\n",
            "[12]\ttrain-rmse:39.29234\n",
            "[13]\ttrain-rmse:39.15505\n",
            "[14]\ttrain-rmse:39.03163\n",
            "[15]\ttrain-rmse:38.91458\n",
            "[16]\ttrain-rmse:38.81799\n",
            "[17]\ttrain-rmse:38.73067\n",
            "[18]\ttrain-rmse:38.64169\n",
            "[19]\ttrain-rmse:38.57312\n"
          ]
        }
      ]
    },
    {
      "cell_type": "code",
      "source": [
        "import xgboost as xgb\n",
        "from sklearn.metrics import accuracy_score\n",
        "\n",
        "# Convert feature names to a list of strings\n",
        "feature_names = X_train.columns.tolist()\n",
        "\n",
        "# Create DMatrix for the training and test data\n",
        "dtest = xgb.DMatrix(X_test, label=y_test, feature_names=feature_names)\n",
        "dtrain = xgb.DMatrix(X_train, label=y_train, feature_names=feature_names)\n",
        "\n",
        "param = {'verbosity': 1,\n",
        "         'objective': 'reg:squarederror',     # 'reg:squarederror' for regression\n",
        "         'booster': 'gblinear',\n",
        "         'eval_metric': 'rmse',\n",
        "         'learning_rate': 1}\n",
        "\n",
        "evallist = [(dtrain, 'train')]\n"
      ],
      "metadata": {
        "id": "IE3IvoNYaJ74"
      },
      "execution_count": 34,
      "outputs": []
    },
    {
      "cell_type": "code",
      "source": [
        "num_round = 20\n",
        "bst = xgb.train(param, dtrain, num_round, evallist)"
      ],
      "metadata": {
        "colab": {
          "base_uri": "https://localhost:8080/"
        },
        "id": "yLhhBJC5cRqJ",
        "outputId": "ccb1e9fb-1d19-49b2-df86-ffa9cc1cced9"
      },
      "execution_count": 35,
      "outputs": [
        {
          "output_type": "stream",
          "name": "stdout",
          "text": [
            "[0]\ttrain-rmse:61.44346\n",
            "[1]\ttrain-rmse:47.62247\n",
            "[2]\ttrain-rmse:43.72851\n",
            "[3]\ttrain-rmse:42.12052\n",
            "[4]\ttrain-rmse:41.17612\n",
            "[5]\ttrain-rmse:40.52151\n",
            "[6]\ttrain-rmse:40.04919\n",
            "[7]\ttrain-rmse:39.70764\n",
            "[8]\ttrain-rmse:39.45691\n",
            "[9]\ttrain-rmse:39.26829\n",
            "[10]\ttrain-rmse:39.12154\n",
            "[11]\ttrain-rmse:39.00324\n",
            "[12]\ttrain-rmse:38.90464\n",
            "[13]\ttrain-rmse:38.82017\n",
            "[14]\ttrain-rmse:38.74629\n",
            "[15]\ttrain-rmse:38.68071\n",
            "[16]\ttrain-rmse:38.62192\n",
            "[17]\ttrain-rmse:38.56889\n",
            "[18]\ttrain-rmse:38.52085\n",
            "[19]\ttrain-rmse:38.47724\n"
          ]
        }
      ]
    }
  ]
}